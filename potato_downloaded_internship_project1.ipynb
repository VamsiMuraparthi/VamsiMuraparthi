{
  "nbformat": 4,
  "nbformat_minor": 0,
  "metadata": {
    "colab": {
      "provenance": [],
      "authorship_tag": "ABX9TyOYfLZeOZGOeEi8nYe6Cute",
      "include_colab_link": true
    },
    "kernelspec": {
      "name": "python3",
      "display_name": "Python 3"
    },
    "language_info": {
      "name": "python"
    }
  },
  "cells": [
    {
      "cell_type": "markdown",
      "metadata": {
        "id": "view-in-github",
        "colab_type": "text"
      },
      "source": [
        "<a href=\"https://colab.research.google.com/github/VamsiMuraparthi/VamsiMuraparthi/blob/main/potato_downloaded_internship_project1.ipynb\" target=\"_parent\"><img src=\"https://colab.research.google.com/assets/colab-badge.svg\" alt=\"Open In Colab\"/></a>"
      ]
    },
    {
      "cell_type": "code",
      "execution_count": 4,
      "metadata": {
        "colab": {
          "base_uri": "https://localhost:8080/"
        },
        "id": "WGuVgOVVut8_",
        "outputId": "16b324c4-0510-4757-dc57-bba9a75b391b"
      },
      "outputs": [
        {
          "output_type": "stream",
          "name": "stdout",
          "text": [
            "18\n",
            "/content/211McCain\n"
          ]
        }
      ],
      "source": [
        "# Give the input file name here\n",
        "input_file=\"/content/211McCain.csv\"\n",
        "f_ind=input_file.index(\".csv\")\n",
        "print(f_ind)\n",
        "file_name = input_file[0:f_ind]\n",
        "print(file_name)"
      ]
    },
    {
      "cell_type": "code",
      "source": [
        "import pandas as pd\n",
        "output_file = file_name+\"_output.csv\"\n",
        "df = pd.read_csv(input_file, skiprows=4, names=['Col1', 'Col2', 'x'])"
      ],
      "metadata": {
        "id": "n__Jpkpxu5xG"
      },
      "execution_count": 5,
      "outputs": []
    },
    {
      "cell_type": "code",
      "source": [
        "df.dropna(how=\"all\", inplace=True)\n",
        "df=df.reset_index(drop=True)"
      ],
      "metadata": {
        "id": "Zn-MnYpzvFZ1"
      },
      "execution_count": 6,
      "outputs": []
    },
    {
      "cell_type": "code",
      "source": [
        "data_index = df[df['Col1'] == 'SENSOR:'].index\n",
        "data_index"
      ],
      "metadata": {
        "id": "0U9XZs2NwfhM",
        "colab": {
          "base_uri": "https://localhost:8080/"
        },
        "outputId": "391dbb74-f5ba-4294-8042-d283715fa024"
      },
      "execution_count": 7,
      "outputs": [
        {
          "output_type": "execute_result",
          "data": {
            "text/plain": [
              "Int64Index([0, 1692, 3384, 5076, 6768, 8460, 10150], dtype='int64')"
            ]
          },
          "metadata": {},
          "execution_count": 7
        }
      ]
    },
    {
      "cell_type": "code",
      "source": [
        "for idx in data_index:\n",
        "    df['Col2'][idx] = df['Col2'][idx] + ' ' + df['x'][idx]\n",
        "\n",
        "df.drop(['x'], axis=1, inplace=True)\n",
        "dfm = df"
      ],
      "metadata": {
        "id": "qTssKEVhe0IT"
      },
      "execution_count": 8,
      "outputs": []
    },
    {
      "cell_type": "code",
      "source": [
        "# Delete all rows where 'Col1' has value=VALUE \n",
        "rows_to_del = dfm[dfm['Col1'] == 'VALUE'].index\n",
        "dfm.drop(rows_to_del, inplace=True)\n",
        "dfm = dfm.reset_index(drop=True)"
      ],
      "metadata": {
        "id": "d5moMDyGe2Ct"
      },
      "execution_count": 9,
      "outputs": []
    },
    {
      "cell_type": "code",
      "source": [
        "# __Finding indices of rows where we have sensor parameter name__\n",
        "data_index = dfm[dfm['Col1'] == 'SENSOR:'].index\n",
        "data_index"
      ],
      "metadata": {
        "colab": {
          "base_uri": "https://localhost:8080/"
        },
        "id": "7aCOnIrGe3yh",
        "outputId": "add358b1-eb39-453d-d6c8-6f913031ca55"
      },
      "execution_count": 10,
      "outputs": [
        {
          "output_type": "execute_result",
          "data": {
            "text/plain": [
              "Int64Index([0, 1691, 3382, 5073, 6764, 8455, 10144], dtype='int64')"
            ]
          },
          "metadata": {},
          "execution_count": 10
        }
      ]
    },
    {
      "cell_type": "code",
      "source": [
        "dfm.head(724)"
      ],
      "metadata": {
        "colab": {
          "base_uri": "https://localhost:8080/",
          "height": 423
        },
        "id": "0c5bDmHZe5zV",
        "outputId": "4db391ff-d8ac-4735-e5fc-d8a490815940"
      },
      "execution_count": 11,
      "outputs": [
        {
          "output_type": "execute_result",
          "data": {
            "text/plain": [
              "        Col1              Col2\n",
              "0    SENSOR:      Rain Fall mm\n",
              "1          0  10-02-2022 22:40\n",
              "2          0  10-02-2022 22:35\n",
              "3          0  10-02-2022 22:33\n",
              "4          0  10-02-2022 18:54\n",
              "..       ...               ...\n",
              "719        0  21-01-2022 21:37\n",
              "720        0  21-01-2022 19:37\n",
              "721        0  21-01-2022 17:36\n",
              "722        0  21-01-2022 15:35\n",
              "723        0  21-01-2022 13:37\n",
              "\n",
              "[724 rows x 2 columns]"
            ],
            "text/html": [
              "\n",
              "  <div id=\"df-3e2929e4-6e78-41dc-93cc-7203a247c79a\">\n",
              "    <div class=\"colab-df-container\">\n",
              "      <div>\n",
              "<style scoped>\n",
              "    .dataframe tbody tr th:only-of-type {\n",
              "        vertical-align: middle;\n",
              "    }\n",
              "\n",
              "    .dataframe tbody tr th {\n",
              "        vertical-align: top;\n",
              "    }\n",
              "\n",
              "    .dataframe thead th {\n",
              "        text-align: right;\n",
              "    }\n",
              "</style>\n",
              "<table border=\"1\" class=\"dataframe\">\n",
              "  <thead>\n",
              "    <tr style=\"text-align: right;\">\n",
              "      <th></th>\n",
              "      <th>Col1</th>\n",
              "      <th>Col2</th>\n",
              "    </tr>\n",
              "  </thead>\n",
              "  <tbody>\n",
              "    <tr>\n",
              "      <th>0</th>\n",
              "      <td>SENSOR:</td>\n",
              "      <td>Rain Fall mm</td>\n",
              "    </tr>\n",
              "    <tr>\n",
              "      <th>1</th>\n",
              "      <td>0</td>\n",
              "      <td>10-02-2022 22:40</td>\n",
              "    </tr>\n",
              "    <tr>\n",
              "      <th>2</th>\n",
              "      <td>0</td>\n",
              "      <td>10-02-2022 22:35</td>\n",
              "    </tr>\n",
              "    <tr>\n",
              "      <th>3</th>\n",
              "      <td>0</td>\n",
              "      <td>10-02-2022 22:33</td>\n",
              "    </tr>\n",
              "    <tr>\n",
              "      <th>4</th>\n",
              "      <td>0</td>\n",
              "      <td>10-02-2022 18:54</td>\n",
              "    </tr>\n",
              "    <tr>\n",
              "      <th>...</th>\n",
              "      <td>...</td>\n",
              "      <td>...</td>\n",
              "    </tr>\n",
              "    <tr>\n",
              "      <th>719</th>\n",
              "      <td>0</td>\n",
              "      <td>21-01-2022 21:37</td>\n",
              "    </tr>\n",
              "    <tr>\n",
              "      <th>720</th>\n",
              "      <td>0</td>\n",
              "      <td>21-01-2022 19:37</td>\n",
              "    </tr>\n",
              "    <tr>\n",
              "      <th>721</th>\n",
              "      <td>0</td>\n",
              "      <td>21-01-2022 17:36</td>\n",
              "    </tr>\n",
              "    <tr>\n",
              "      <th>722</th>\n",
              "      <td>0</td>\n",
              "      <td>21-01-2022 15:35</td>\n",
              "    </tr>\n",
              "    <tr>\n",
              "      <th>723</th>\n",
              "      <td>0</td>\n",
              "      <td>21-01-2022 13:37</td>\n",
              "    </tr>\n",
              "  </tbody>\n",
              "</table>\n",
              "<p>724 rows × 2 columns</p>\n",
              "</div>\n",
              "      <button class=\"colab-df-convert\" onclick=\"convertToInteractive('df-3e2929e4-6e78-41dc-93cc-7203a247c79a')\"\n",
              "              title=\"Convert this dataframe to an interactive table.\"\n",
              "              style=\"display:none;\">\n",
              "        \n",
              "  <svg xmlns=\"http://www.w3.org/2000/svg\" height=\"24px\"viewBox=\"0 0 24 24\"\n",
              "       width=\"24px\">\n",
              "    <path d=\"M0 0h24v24H0V0z\" fill=\"none\"/>\n",
              "    <path d=\"M18.56 5.44l.94 2.06.94-2.06 2.06-.94-2.06-.94-.94-2.06-.94 2.06-2.06.94zm-11 1L8.5 8.5l.94-2.06 2.06-.94-2.06-.94L8.5 2.5l-.94 2.06-2.06.94zm10 10l.94 2.06.94-2.06 2.06-.94-2.06-.94-.94-2.06-.94 2.06-2.06.94z\"/><path d=\"M17.41 7.96l-1.37-1.37c-.4-.4-.92-.59-1.43-.59-.52 0-1.04.2-1.43.59L10.3 9.45l-7.72 7.72c-.78.78-.78 2.05 0 2.83L4 21.41c.39.39.9.59 1.41.59.51 0 1.02-.2 1.41-.59l7.78-7.78 2.81-2.81c.8-.78.8-2.07 0-2.86zM5.41 20L4 18.59l7.72-7.72 1.47 1.35L5.41 20z\"/>\n",
              "  </svg>\n",
              "      </button>\n",
              "      \n",
              "  <style>\n",
              "    .colab-df-container {\n",
              "      display:flex;\n",
              "      flex-wrap:wrap;\n",
              "      gap: 12px;\n",
              "    }\n",
              "\n",
              "    .colab-df-convert {\n",
              "      background-color: #E8F0FE;\n",
              "      border: none;\n",
              "      border-radius: 50%;\n",
              "      cursor: pointer;\n",
              "      display: none;\n",
              "      fill: #1967D2;\n",
              "      height: 32px;\n",
              "      padding: 0 0 0 0;\n",
              "      width: 32px;\n",
              "    }\n",
              "\n",
              "    .colab-df-convert:hover {\n",
              "      background-color: #E2EBFA;\n",
              "      box-shadow: 0px 1px 2px rgba(60, 64, 67, 0.3), 0px 1px 3px 1px rgba(60, 64, 67, 0.15);\n",
              "      fill: #174EA6;\n",
              "    }\n",
              "\n",
              "    [theme=dark] .colab-df-convert {\n",
              "      background-color: #3B4455;\n",
              "      fill: #D2E3FC;\n",
              "    }\n",
              "\n",
              "    [theme=dark] .colab-df-convert:hover {\n",
              "      background-color: #434B5C;\n",
              "      box-shadow: 0px 1px 3px 1px rgba(0, 0, 0, 0.15);\n",
              "      filter: drop-shadow(0px 1px 2px rgba(0, 0, 0, 0.3));\n",
              "      fill: #FFFFFF;\n",
              "    }\n",
              "  </style>\n",
              "\n",
              "      <script>\n",
              "        const buttonEl =\n",
              "          document.querySelector('#df-3e2929e4-6e78-41dc-93cc-7203a247c79a button.colab-df-convert');\n",
              "        buttonEl.style.display =\n",
              "          google.colab.kernel.accessAllowed ? 'block' : 'none';\n",
              "\n",
              "        async function convertToInteractive(key) {\n",
              "          const element = document.querySelector('#df-3e2929e4-6e78-41dc-93cc-7203a247c79a');\n",
              "          const dataTable =\n",
              "            await google.colab.kernel.invokeFunction('convertToInteractive',\n",
              "                                                     [key], {});\n",
              "          if (!dataTable) return;\n",
              "\n",
              "          const docLinkHtml = 'Like what you see? Visit the ' +\n",
              "            '<a target=\"_blank\" href=https://colab.research.google.com/notebooks/data_table.ipynb>data table notebook</a>'\n",
              "            + ' to learn more about interactive tables.';\n",
              "          element.innerHTML = '';\n",
              "          dataTable['output_type'] = 'display_data';\n",
              "          await google.colab.output.renderOutput(dataTable, element);\n",
              "          const docLink = document.createElement('div');\n",
              "          docLink.innerHTML = docLinkHtml;\n",
              "          element.appendChild(docLink);\n",
              "        }\n",
              "      </script>\n",
              "    </div>\n",
              "  </div>\n",
              "  "
            ]
          },
          "metadata": {},
          "execution_count": 11
        }
      ]
    },
    {
      "cell_type": "code",
      "source": [
        "rows_to_del = [indx - 1 for indx in range(1, len(data_index)) if data_index[\n",
        "    indx] == data_index[indx - 1] + 1]\n",
        "\n",
        "dfm.drop(rows_to_del, inplace=True)\n",
        "dfm = dfm.reset_index(drop=True)\n",
        "data_index_new = dfm[dfm['Col1'] == 'SENSOR:'].index\n",
        "data_index_new"
      ],
      "metadata": {
        "colab": {
          "base_uri": "https://localhost:8080/"
        },
        "id": "0I1Zzjvue8Fy",
        "outputId": "0b790fca-1d9b-45b6-bf1f-4b83f9f041dd"
      },
      "execution_count": 12,
      "outputs": [
        {
          "output_type": "execute_result",
          "data": {
            "text/plain": [
              "Int64Index([0, 1691, 3382, 5073, 6764, 8455, 10144], dtype='int64')"
            ]
          },
          "metadata": {},
          "execution_count": 12
        }
      ]
    },
    {
      "cell_type": "code",
      "source": [
        "column_names = dfm[dfm['Col1'] == 'SENSOR:'].Col2.tolist()"
      ],
      "metadata": {
        "id": "O3zurxJRe_LR"
      },
      "execution_count": 13,
      "outputs": []
    },
    {
      "cell_type": "code",
      "source": [
        "data_lst = []\n",
        "size = len(data_index_new)\n",
        "\n",
        "for i in range(size - 1):    \n",
        "    data_lst.append(dfm[data_index_new[i] + 1:data_index_new[i + 1]][\n",
        "                        'Col2'].reset_index(drop=True))\n",
        "    data_lst.append(dfm[data_index_new[i] + 1:data_index_new[i + 1]][\n",
        "                        'Col1'].reset_index(drop=True))\n",
        "\n",
        "data_lst.append(\n",
        "    dfm[data_index_new[size - 1] + 1:]['Col2'].reset_index(drop=True))\n",
        "data_lst.append(\n",
        "    dfm[data_index_new[size - 1] + 1:]['Col1'].reset_index(drop=True))\n",
        "\n",
        "final_df = pd.DataFrame(list(zip(data_lst[0], data_lst[1])), columns=[\n",
        "    'Timestamp', column_names[0]])\n",
        "\n",
        "idx = 2\n",
        "\n",
        "for i in range(1, size):\n",
        "    new_df1 = pd.DataFrame(list(zip(data_lst[idx], data_lst[idx + 1])),\n",
        "                           columns=['Timestamp', column_names[i]])\n",
        "    final_df = final_df.join(new_df1.set_index('Timestamp'), on='Timestamp',\n",
        "                             how='outer')\n",
        "    idx = idx + 2\n",
        "    \n",
        "#Removing duplicate lines\n",
        "final_df.drop_duplicates(subset=['Timestamp'], keep='first', inplace=True)"
      ],
      "metadata": {
        "id": "-IiJI41SfBlE"
      },
      "execution_count": 14,
      "outputs": []
    },
    {
      "cell_type": "code",
      "source": [
        "final_df.shape"
      ],
      "metadata": {
        "colab": {
          "base_uri": "https://localhost:8080/"
        },
        "id": "KpUX_tVIfDoa",
        "outputId": "fe83ba23-3272-446a-de78-7c44ae52cb06"
      },
      "execution_count": 15,
      "outputs": [
        {
          "output_type": "execute_result",
          "data": {
            "text/plain": [
              "(1679, 8)"
            ]
          },
          "metadata": {},
          "execution_count": 15
        }
      ]
    },
    {
      "cell_type": "code",
      "source": [
        "#find index of battery column and then drop it\n",
        "battery_col = -1\n",
        "for i in range(len(column_names)):\n",
        "    if 'battery' in column_names[i].lower():\n",
        "        battery_col = i\n",
        "        break\n",
        "final_df.drop([column_names[battery_col]], axis=1, inplace=True)"
      ],
      "metadata": {
        "id": "ycd8QfpgfGQm"
      },
      "execution_count": 16,
      "outputs": []
    },
    {
      "cell_type": "code",
      "source": [
        "column_names = final_df.columns\n",
        "print(column_names)\n",
        "\n",
        "final_df = final_df[~(final_df[column_names[1]].isna() & final_df[\n",
        "    column_names[2]].isna() & final_df[column_names[3]].isna() & final_df[\n",
        "    column_names[4]].isna())]"
      ],
      "metadata": {
        "colab": {
          "base_uri": "https://localhost:8080/"
        },
        "id": "WPrI4ANsfNcl",
        "outputId": "6142c933-fb45-4b0b-807b-245ba5e7eeb0"
      },
      "execution_count": 17,
      "outputs": [
        {
          "output_type": "stream",
          "name": "stdout",
          "text": [
            "Index(['Timestamp', 'Rain Fall mm', 'Ambient relative humidity %RH',\n",
            "       'Ambient temperature Deg Centigrade', 'Ultraviolet index unit',\n",
            "       'Wind velocity km/h', 'Wind direction degree'],\n",
            "      dtype='object')\n"
          ]
        }
      ]
    },
    {
      "cell_type": "code",
      "source": [
        "final_df.to_csv(output_file, index=False)"
      ],
      "metadata": {
        "id": "Lg5HX2BqfO7n"
      },
      "execution_count": 18,
      "outputs": []
    },
    {
      "cell_type": "code",
      "source": [
        "final_df"
      ],
      "metadata": {
        "colab": {
          "base_uri": "https://localhost:8080/",
          "height": 658
        },
        "id": "4g50-qiKfRwr",
        "outputId": "b403cf34-38f9-4a05-b450-e3f65650d877"
      },
      "execution_count": 19,
      "outputs": [
        {
          "output_type": "execute_result",
          "data": {
            "text/plain": [
              "             Timestamp Rain Fall mm Ambient relative humidity %RH  \\\n",
              "0     10-02-2022 22:40            0                          64.5   \n",
              "1     10-02-2022 22:35            0                          64.5   \n",
              "2     10-02-2022 22:33            0                          64.5   \n",
              "3     10-02-2022 18:54            0                          59.8   \n",
              "4     10-02-2022 18:39            0                          59.8   \n",
              "...                ...          ...                           ...   \n",
              "1685  29-10-2021 22:16            0                          68.5   \n",
              "1686  29-10-2021 20:15            0                          71.4   \n",
              "1687  29-10-2021 18:14            0                            41   \n",
              "1688  29-10-2021 16:20            0                          22.7   \n",
              "1689  29-10-2021 16:15            0                          25.2   \n",
              "\n",
              "     Ambient temperature Deg Centigrade Ultraviolet index unit  \\\n",
              "0                                    15                      0   \n",
              "1                                    15                      0   \n",
              "2                                    15                      0   \n",
              "3                                    18                      0   \n",
              "4                                    18                      0   \n",
              "...                                 ...                    ...   \n",
              "1685                                 16                      0   \n",
              "1686                                 18                      0   \n",
              "1687                                 24                      0   \n",
              "1688                                 31                      0   \n",
              "1689                                 31                      0   \n",
              "\n",
              "     Wind velocity km/h Wind direction degree  \n",
              "0                   1.1                    45  \n",
              "1                   1.1                    45  \n",
              "2                   1.1                    45  \n",
              "3                     0                   270  \n",
              "4                     0                   270  \n",
              "...                 ...                   ...  \n",
              "1685                  0                   270  \n",
              "1686                0.2                   270  \n",
              "1687                0.7                   270  \n",
              "1688                3.2                   270  \n",
              "1689                2.9                   270  \n",
              "\n",
              "[1679 rows x 7 columns]"
            ],
            "text/html": [
              "\n",
              "  <div id=\"df-54581cba-d32d-4c3c-be08-9cd1e8b67987\">\n",
              "    <div class=\"colab-df-container\">\n",
              "      <div>\n",
              "<style scoped>\n",
              "    .dataframe tbody tr th:only-of-type {\n",
              "        vertical-align: middle;\n",
              "    }\n",
              "\n",
              "    .dataframe tbody tr th {\n",
              "        vertical-align: top;\n",
              "    }\n",
              "\n",
              "    .dataframe thead th {\n",
              "        text-align: right;\n",
              "    }\n",
              "</style>\n",
              "<table border=\"1\" class=\"dataframe\">\n",
              "  <thead>\n",
              "    <tr style=\"text-align: right;\">\n",
              "      <th></th>\n",
              "      <th>Timestamp</th>\n",
              "      <th>Rain Fall mm</th>\n",
              "      <th>Ambient relative humidity %RH</th>\n",
              "      <th>Ambient temperature Deg Centigrade</th>\n",
              "      <th>Ultraviolet index unit</th>\n",
              "      <th>Wind velocity km/h</th>\n",
              "      <th>Wind direction degree</th>\n",
              "    </tr>\n",
              "  </thead>\n",
              "  <tbody>\n",
              "    <tr>\n",
              "      <th>0</th>\n",
              "      <td>10-02-2022 22:40</td>\n",
              "      <td>0</td>\n",
              "      <td>64.5</td>\n",
              "      <td>15</td>\n",
              "      <td>0</td>\n",
              "      <td>1.1</td>\n",
              "      <td>45</td>\n",
              "    </tr>\n",
              "    <tr>\n",
              "      <th>1</th>\n",
              "      <td>10-02-2022 22:35</td>\n",
              "      <td>0</td>\n",
              "      <td>64.5</td>\n",
              "      <td>15</td>\n",
              "      <td>0</td>\n",
              "      <td>1.1</td>\n",
              "      <td>45</td>\n",
              "    </tr>\n",
              "    <tr>\n",
              "      <th>2</th>\n",
              "      <td>10-02-2022 22:33</td>\n",
              "      <td>0</td>\n",
              "      <td>64.5</td>\n",
              "      <td>15</td>\n",
              "      <td>0</td>\n",
              "      <td>1.1</td>\n",
              "      <td>45</td>\n",
              "    </tr>\n",
              "    <tr>\n",
              "      <th>3</th>\n",
              "      <td>10-02-2022 18:54</td>\n",
              "      <td>0</td>\n",
              "      <td>59.8</td>\n",
              "      <td>18</td>\n",
              "      <td>0</td>\n",
              "      <td>0</td>\n",
              "      <td>270</td>\n",
              "    </tr>\n",
              "    <tr>\n",
              "      <th>4</th>\n",
              "      <td>10-02-2022 18:39</td>\n",
              "      <td>0</td>\n",
              "      <td>59.8</td>\n",
              "      <td>18</td>\n",
              "      <td>0</td>\n",
              "      <td>0</td>\n",
              "      <td>270</td>\n",
              "    </tr>\n",
              "    <tr>\n",
              "      <th>...</th>\n",
              "      <td>...</td>\n",
              "      <td>...</td>\n",
              "      <td>...</td>\n",
              "      <td>...</td>\n",
              "      <td>...</td>\n",
              "      <td>...</td>\n",
              "      <td>...</td>\n",
              "    </tr>\n",
              "    <tr>\n",
              "      <th>1685</th>\n",
              "      <td>29-10-2021 22:16</td>\n",
              "      <td>0</td>\n",
              "      <td>68.5</td>\n",
              "      <td>16</td>\n",
              "      <td>0</td>\n",
              "      <td>0</td>\n",
              "      <td>270</td>\n",
              "    </tr>\n",
              "    <tr>\n",
              "      <th>1686</th>\n",
              "      <td>29-10-2021 20:15</td>\n",
              "      <td>0</td>\n",
              "      <td>71.4</td>\n",
              "      <td>18</td>\n",
              "      <td>0</td>\n",
              "      <td>0.2</td>\n",
              "      <td>270</td>\n",
              "    </tr>\n",
              "    <tr>\n",
              "      <th>1687</th>\n",
              "      <td>29-10-2021 18:14</td>\n",
              "      <td>0</td>\n",
              "      <td>41</td>\n",
              "      <td>24</td>\n",
              "      <td>0</td>\n",
              "      <td>0.7</td>\n",
              "      <td>270</td>\n",
              "    </tr>\n",
              "    <tr>\n",
              "      <th>1688</th>\n",
              "      <td>29-10-2021 16:20</td>\n",
              "      <td>0</td>\n",
              "      <td>22.7</td>\n",
              "      <td>31</td>\n",
              "      <td>0</td>\n",
              "      <td>3.2</td>\n",
              "      <td>270</td>\n",
              "    </tr>\n",
              "    <tr>\n",
              "      <th>1689</th>\n",
              "      <td>29-10-2021 16:15</td>\n",
              "      <td>0</td>\n",
              "      <td>25.2</td>\n",
              "      <td>31</td>\n",
              "      <td>0</td>\n",
              "      <td>2.9</td>\n",
              "      <td>270</td>\n",
              "    </tr>\n",
              "  </tbody>\n",
              "</table>\n",
              "<p>1679 rows × 7 columns</p>\n",
              "</div>\n",
              "      <button class=\"colab-df-convert\" onclick=\"convertToInteractive('df-54581cba-d32d-4c3c-be08-9cd1e8b67987')\"\n",
              "              title=\"Convert this dataframe to an interactive table.\"\n",
              "              style=\"display:none;\">\n",
              "        \n",
              "  <svg xmlns=\"http://www.w3.org/2000/svg\" height=\"24px\"viewBox=\"0 0 24 24\"\n",
              "       width=\"24px\">\n",
              "    <path d=\"M0 0h24v24H0V0z\" fill=\"none\"/>\n",
              "    <path d=\"M18.56 5.44l.94 2.06.94-2.06 2.06-.94-2.06-.94-.94-2.06-.94 2.06-2.06.94zm-11 1L8.5 8.5l.94-2.06 2.06-.94-2.06-.94L8.5 2.5l-.94 2.06-2.06.94zm10 10l.94 2.06.94-2.06 2.06-.94-2.06-.94-.94-2.06-.94 2.06-2.06.94z\"/><path d=\"M17.41 7.96l-1.37-1.37c-.4-.4-.92-.59-1.43-.59-.52 0-1.04.2-1.43.59L10.3 9.45l-7.72 7.72c-.78.78-.78 2.05 0 2.83L4 21.41c.39.39.9.59 1.41.59.51 0 1.02-.2 1.41-.59l7.78-7.78 2.81-2.81c.8-.78.8-2.07 0-2.86zM5.41 20L4 18.59l7.72-7.72 1.47 1.35L5.41 20z\"/>\n",
              "  </svg>\n",
              "      </button>\n",
              "      \n",
              "  <style>\n",
              "    .colab-df-container {\n",
              "      display:flex;\n",
              "      flex-wrap:wrap;\n",
              "      gap: 12px;\n",
              "    }\n",
              "\n",
              "    .colab-df-convert {\n",
              "      background-color: #E8F0FE;\n",
              "      border: none;\n",
              "      border-radius: 50%;\n",
              "      cursor: pointer;\n",
              "      display: none;\n",
              "      fill: #1967D2;\n",
              "      height: 32px;\n",
              "      padding: 0 0 0 0;\n",
              "      width: 32px;\n",
              "    }\n",
              "\n",
              "    .colab-df-convert:hover {\n",
              "      background-color: #E2EBFA;\n",
              "      box-shadow: 0px 1px 2px rgba(60, 64, 67, 0.3), 0px 1px 3px 1px rgba(60, 64, 67, 0.15);\n",
              "      fill: #174EA6;\n",
              "    }\n",
              "\n",
              "    [theme=dark] .colab-df-convert {\n",
              "      background-color: #3B4455;\n",
              "      fill: #D2E3FC;\n",
              "    }\n",
              "\n",
              "    [theme=dark] .colab-df-convert:hover {\n",
              "      background-color: #434B5C;\n",
              "      box-shadow: 0px 1px 3px 1px rgba(0, 0, 0, 0.15);\n",
              "      filter: drop-shadow(0px 1px 2px rgba(0, 0, 0, 0.3));\n",
              "      fill: #FFFFFF;\n",
              "    }\n",
              "  </style>\n",
              "\n",
              "      <script>\n",
              "        const buttonEl =\n",
              "          document.querySelector('#df-54581cba-d32d-4c3c-be08-9cd1e8b67987 button.colab-df-convert');\n",
              "        buttonEl.style.display =\n",
              "          google.colab.kernel.accessAllowed ? 'block' : 'none';\n",
              "\n",
              "        async function convertToInteractive(key) {\n",
              "          const element = document.querySelector('#df-54581cba-d32d-4c3c-be08-9cd1e8b67987');\n",
              "          const dataTable =\n",
              "            await google.colab.kernel.invokeFunction('convertToInteractive',\n",
              "                                                     [key], {});\n",
              "          if (!dataTable) return;\n",
              "\n",
              "          const docLinkHtml = 'Like what you see? Visit the ' +\n",
              "            '<a target=\"_blank\" href=https://colab.research.google.com/notebooks/data_table.ipynb>data table notebook</a>'\n",
              "            + ' to learn more about interactive tables.';\n",
              "          element.innerHTML = '';\n",
              "          dataTable['output_type'] = 'display_data';\n",
              "          await google.colab.output.renderOutput(dataTable, element);\n",
              "          const docLink = document.createElement('div');\n",
              "          docLink.innerHTML = docLinkHtml;\n",
              "          element.appendChild(docLink);\n",
              "        }\n",
              "      </script>\n",
              "    </div>\n",
              "  </div>\n",
              "  "
            ]
          },
          "metadata": {},
          "execution_count": 19
        }
      ]
    },
    {
      "cell_type": "code",
      "source": [
        "ts_col = final_df[column_names[0]]\n",
        "ts_col"
      ],
      "metadata": {
        "colab": {
          "base_uri": "https://localhost:8080/"
        },
        "id": "lvA0P371fX1V",
        "outputId": "a047dcac-72b8-43d8-a70e-6a20461d1bea"
      },
      "execution_count": 20,
      "outputs": [
        {
          "output_type": "execute_result",
          "data": {
            "text/plain": [
              "0       10-02-2022 22:40\n",
              "1       10-02-2022 22:35\n",
              "2       10-02-2022 22:33\n",
              "3       10-02-2022 18:54\n",
              "4       10-02-2022 18:39\n",
              "              ...       \n",
              "1685    29-10-2021 22:16\n",
              "1686    29-10-2021 20:15\n",
              "1687    29-10-2021 18:14\n",
              "1688    29-10-2021 16:20\n",
              "1689    29-10-2021 16:15\n",
              "Name: Timestamp, Length: 1679, dtype: object"
            ]
          },
          "metadata": {},
          "execution_count": 20
        }
      ]
    },
    {
      "cell_type": "code",
      "source": [
        "#time_ranges = ['00-02', '02-04', '04-06', '06-08', '08-10', '10-12', '12-14',\n",
        "               #'14-16','16-18','18-20','20-22','22-24']\n",
        "date_col = []\n",
        "time_col = []\n",
        "time_range = []\n",
        "\n",
        "for ts in ts_col:\n",
        "    tmp = ts.strip()\n",
        "    tmp = tmp.split(' ')\n",
        "    date_col.append(tmp[0])\n",
        "    time_col.append(tmp[1])\n",
        "    hour = tmp[1].split(':')[0]\n",
        "    time_range.append(hour)\n",
        "\n",
        "final_df.drop([column_names[0]], axis=1, inplace=True)\n",
        "final_df.insert(0, \"Date\", date_col, True)\n",
        "final_df.insert(1, \"Time\", time_col, True)\n",
        "final_df.insert(2, \"Time_Slot\", time_range, True)\n",
        "\n",
        "final_df"
      ],
      "metadata": {
        "colab": {
          "base_uri": "https://localhost:8080/",
          "height": 658
        },
        "id": "n81x8p2kfacY",
        "outputId": "689b2365-0c65-4a75-964b-67c630bdadef"
      },
      "execution_count": 21,
      "outputs": [
        {
          "output_type": "execute_result",
          "data": {
            "text/plain": [
              "            Date   Time Time_Slot Rain Fall mm Ambient relative humidity %RH  \\\n",
              "0     10-02-2022  22:40        22            0                          64.5   \n",
              "1     10-02-2022  22:35        22            0                          64.5   \n",
              "2     10-02-2022  22:33        22            0                          64.5   \n",
              "3     10-02-2022  18:54        18            0                          59.8   \n",
              "4     10-02-2022  18:39        18            0                          59.8   \n",
              "...          ...    ...       ...          ...                           ...   \n",
              "1685  29-10-2021  22:16        22            0                          68.5   \n",
              "1686  29-10-2021  20:15        20            0                          71.4   \n",
              "1687  29-10-2021  18:14        18            0                            41   \n",
              "1688  29-10-2021  16:20        16            0                          22.7   \n",
              "1689  29-10-2021  16:15        16            0                          25.2   \n",
              "\n",
              "     Ambient temperature Deg Centigrade Ultraviolet index unit  \\\n",
              "0                                    15                      0   \n",
              "1                                    15                      0   \n",
              "2                                    15                      0   \n",
              "3                                    18                      0   \n",
              "4                                    18                      0   \n",
              "...                                 ...                    ...   \n",
              "1685                                 16                      0   \n",
              "1686                                 18                      0   \n",
              "1687                                 24                      0   \n",
              "1688                                 31                      0   \n",
              "1689                                 31                      0   \n",
              "\n",
              "     Wind velocity km/h Wind direction degree  \n",
              "0                   1.1                    45  \n",
              "1                   1.1                    45  \n",
              "2                   1.1                    45  \n",
              "3                     0                   270  \n",
              "4                     0                   270  \n",
              "...                 ...                   ...  \n",
              "1685                  0                   270  \n",
              "1686                0.2                   270  \n",
              "1687                0.7                   270  \n",
              "1688                3.2                   270  \n",
              "1689                2.9                   270  \n",
              "\n",
              "[1679 rows x 9 columns]"
            ],
            "text/html": [
              "\n",
              "  <div id=\"df-f5a307bb-f685-4ca7-9f5f-7ebe6151cfbd\">\n",
              "    <div class=\"colab-df-container\">\n",
              "      <div>\n",
              "<style scoped>\n",
              "    .dataframe tbody tr th:only-of-type {\n",
              "        vertical-align: middle;\n",
              "    }\n",
              "\n",
              "    .dataframe tbody tr th {\n",
              "        vertical-align: top;\n",
              "    }\n",
              "\n",
              "    .dataframe thead th {\n",
              "        text-align: right;\n",
              "    }\n",
              "</style>\n",
              "<table border=\"1\" class=\"dataframe\">\n",
              "  <thead>\n",
              "    <tr style=\"text-align: right;\">\n",
              "      <th></th>\n",
              "      <th>Date</th>\n",
              "      <th>Time</th>\n",
              "      <th>Time_Slot</th>\n",
              "      <th>Rain Fall mm</th>\n",
              "      <th>Ambient relative humidity %RH</th>\n",
              "      <th>Ambient temperature Deg Centigrade</th>\n",
              "      <th>Ultraviolet index unit</th>\n",
              "      <th>Wind velocity km/h</th>\n",
              "      <th>Wind direction degree</th>\n",
              "    </tr>\n",
              "  </thead>\n",
              "  <tbody>\n",
              "    <tr>\n",
              "      <th>0</th>\n",
              "      <td>10-02-2022</td>\n",
              "      <td>22:40</td>\n",
              "      <td>22</td>\n",
              "      <td>0</td>\n",
              "      <td>64.5</td>\n",
              "      <td>15</td>\n",
              "      <td>0</td>\n",
              "      <td>1.1</td>\n",
              "      <td>45</td>\n",
              "    </tr>\n",
              "    <tr>\n",
              "      <th>1</th>\n",
              "      <td>10-02-2022</td>\n",
              "      <td>22:35</td>\n",
              "      <td>22</td>\n",
              "      <td>0</td>\n",
              "      <td>64.5</td>\n",
              "      <td>15</td>\n",
              "      <td>0</td>\n",
              "      <td>1.1</td>\n",
              "      <td>45</td>\n",
              "    </tr>\n",
              "    <tr>\n",
              "      <th>2</th>\n",
              "      <td>10-02-2022</td>\n",
              "      <td>22:33</td>\n",
              "      <td>22</td>\n",
              "      <td>0</td>\n",
              "      <td>64.5</td>\n",
              "      <td>15</td>\n",
              "      <td>0</td>\n",
              "      <td>1.1</td>\n",
              "      <td>45</td>\n",
              "    </tr>\n",
              "    <tr>\n",
              "      <th>3</th>\n",
              "      <td>10-02-2022</td>\n",
              "      <td>18:54</td>\n",
              "      <td>18</td>\n",
              "      <td>0</td>\n",
              "      <td>59.8</td>\n",
              "      <td>18</td>\n",
              "      <td>0</td>\n",
              "      <td>0</td>\n",
              "      <td>270</td>\n",
              "    </tr>\n",
              "    <tr>\n",
              "      <th>4</th>\n",
              "      <td>10-02-2022</td>\n",
              "      <td>18:39</td>\n",
              "      <td>18</td>\n",
              "      <td>0</td>\n",
              "      <td>59.8</td>\n",
              "      <td>18</td>\n",
              "      <td>0</td>\n",
              "      <td>0</td>\n",
              "      <td>270</td>\n",
              "    </tr>\n",
              "    <tr>\n",
              "      <th>...</th>\n",
              "      <td>...</td>\n",
              "      <td>...</td>\n",
              "      <td>...</td>\n",
              "      <td>...</td>\n",
              "      <td>...</td>\n",
              "      <td>...</td>\n",
              "      <td>...</td>\n",
              "      <td>...</td>\n",
              "      <td>...</td>\n",
              "    </tr>\n",
              "    <tr>\n",
              "      <th>1685</th>\n",
              "      <td>29-10-2021</td>\n",
              "      <td>22:16</td>\n",
              "      <td>22</td>\n",
              "      <td>0</td>\n",
              "      <td>68.5</td>\n",
              "      <td>16</td>\n",
              "      <td>0</td>\n",
              "      <td>0</td>\n",
              "      <td>270</td>\n",
              "    </tr>\n",
              "    <tr>\n",
              "      <th>1686</th>\n",
              "      <td>29-10-2021</td>\n",
              "      <td>20:15</td>\n",
              "      <td>20</td>\n",
              "      <td>0</td>\n",
              "      <td>71.4</td>\n",
              "      <td>18</td>\n",
              "      <td>0</td>\n",
              "      <td>0.2</td>\n",
              "      <td>270</td>\n",
              "    </tr>\n",
              "    <tr>\n",
              "      <th>1687</th>\n",
              "      <td>29-10-2021</td>\n",
              "      <td>18:14</td>\n",
              "      <td>18</td>\n",
              "      <td>0</td>\n",
              "      <td>41</td>\n",
              "      <td>24</td>\n",
              "      <td>0</td>\n",
              "      <td>0.7</td>\n",
              "      <td>270</td>\n",
              "    </tr>\n",
              "    <tr>\n",
              "      <th>1688</th>\n",
              "      <td>29-10-2021</td>\n",
              "      <td>16:20</td>\n",
              "      <td>16</td>\n",
              "      <td>0</td>\n",
              "      <td>22.7</td>\n",
              "      <td>31</td>\n",
              "      <td>0</td>\n",
              "      <td>3.2</td>\n",
              "      <td>270</td>\n",
              "    </tr>\n",
              "    <tr>\n",
              "      <th>1689</th>\n",
              "      <td>29-10-2021</td>\n",
              "      <td>16:15</td>\n",
              "      <td>16</td>\n",
              "      <td>0</td>\n",
              "      <td>25.2</td>\n",
              "      <td>31</td>\n",
              "      <td>0</td>\n",
              "      <td>2.9</td>\n",
              "      <td>270</td>\n",
              "    </tr>\n",
              "  </tbody>\n",
              "</table>\n",
              "<p>1679 rows × 9 columns</p>\n",
              "</div>\n",
              "      <button class=\"colab-df-convert\" onclick=\"convertToInteractive('df-f5a307bb-f685-4ca7-9f5f-7ebe6151cfbd')\"\n",
              "              title=\"Convert this dataframe to an interactive table.\"\n",
              "              style=\"display:none;\">\n",
              "        \n",
              "  <svg xmlns=\"http://www.w3.org/2000/svg\" height=\"24px\"viewBox=\"0 0 24 24\"\n",
              "       width=\"24px\">\n",
              "    <path d=\"M0 0h24v24H0V0z\" fill=\"none\"/>\n",
              "    <path d=\"M18.56 5.44l.94 2.06.94-2.06 2.06-.94-2.06-.94-.94-2.06-.94 2.06-2.06.94zm-11 1L8.5 8.5l.94-2.06 2.06-.94-2.06-.94L8.5 2.5l-.94 2.06-2.06.94zm10 10l.94 2.06.94-2.06 2.06-.94-2.06-.94-.94-2.06-.94 2.06-2.06.94z\"/><path d=\"M17.41 7.96l-1.37-1.37c-.4-.4-.92-.59-1.43-.59-.52 0-1.04.2-1.43.59L10.3 9.45l-7.72 7.72c-.78.78-.78 2.05 0 2.83L4 21.41c.39.39.9.59 1.41.59.51 0 1.02-.2 1.41-.59l7.78-7.78 2.81-2.81c.8-.78.8-2.07 0-2.86zM5.41 20L4 18.59l7.72-7.72 1.47 1.35L5.41 20z\"/>\n",
              "  </svg>\n",
              "      </button>\n",
              "      \n",
              "  <style>\n",
              "    .colab-df-container {\n",
              "      display:flex;\n",
              "      flex-wrap:wrap;\n",
              "      gap: 12px;\n",
              "    }\n",
              "\n",
              "    .colab-df-convert {\n",
              "      background-color: #E8F0FE;\n",
              "      border: none;\n",
              "      border-radius: 50%;\n",
              "      cursor: pointer;\n",
              "      display: none;\n",
              "      fill: #1967D2;\n",
              "      height: 32px;\n",
              "      padding: 0 0 0 0;\n",
              "      width: 32px;\n",
              "    }\n",
              "\n",
              "    .colab-df-convert:hover {\n",
              "      background-color: #E2EBFA;\n",
              "      box-shadow: 0px 1px 2px rgba(60, 64, 67, 0.3), 0px 1px 3px 1px rgba(60, 64, 67, 0.15);\n",
              "      fill: #174EA6;\n",
              "    }\n",
              "\n",
              "    [theme=dark] .colab-df-convert {\n",
              "      background-color: #3B4455;\n",
              "      fill: #D2E3FC;\n",
              "    }\n",
              "\n",
              "    [theme=dark] .colab-df-convert:hover {\n",
              "      background-color: #434B5C;\n",
              "      box-shadow: 0px 1px 3px 1px rgba(0, 0, 0, 0.15);\n",
              "      filter: drop-shadow(0px 1px 2px rgba(0, 0, 0, 0.3));\n",
              "      fill: #FFFFFF;\n",
              "    }\n",
              "  </style>\n",
              "\n",
              "      <script>\n",
              "        const buttonEl =\n",
              "          document.querySelector('#df-f5a307bb-f685-4ca7-9f5f-7ebe6151cfbd button.colab-df-convert');\n",
              "        buttonEl.style.display =\n",
              "          google.colab.kernel.accessAllowed ? 'block' : 'none';\n",
              "\n",
              "        async function convertToInteractive(key) {\n",
              "          const element = document.querySelector('#df-f5a307bb-f685-4ca7-9f5f-7ebe6151cfbd');\n",
              "          const dataTable =\n",
              "            await google.colab.kernel.invokeFunction('convertToInteractive',\n",
              "                                                     [key], {});\n",
              "          if (!dataTable) return;\n",
              "\n",
              "          const docLinkHtml = 'Like what you see? Visit the ' +\n",
              "            '<a target=\"_blank\" href=https://colab.research.google.com/notebooks/data_table.ipynb>data table notebook</a>'\n",
              "            + ' to learn more about interactive tables.';\n",
              "          element.innerHTML = '';\n",
              "          dataTable['output_type'] = 'display_data';\n",
              "          await google.colab.output.renderOutput(dataTable, element);\n",
              "          const docLink = document.createElement('div');\n",
              "          docLink.innerHTML = docLinkHtml;\n",
              "          element.appendChild(docLink);\n",
              "        }\n",
              "      </script>\n",
              "    </div>\n",
              "  </div>\n",
              "  "
            ]
          },
          "metadata": {},
          "execution_count": 21
        }
      ]
    },
    {
      "cell_type": "code",
      "source": [
        "output_file_with_timeslots=file_name+\"_output_with_timeslots.csv\"\n",
        "final_df.to_csv(output_file_with_timeslots, index=False)"
      ],
      "metadata": {
        "id": "9dQNq28ffcY8"
      },
      "execution_count": 22,
      "outputs": []
    },
    {
      "cell_type": "code",
      "source": [
        "final_df.info()"
      ],
      "metadata": {
        "colab": {
          "base_uri": "https://localhost:8080/"
        },
        "id": "x_yUvo4Ufew2",
        "outputId": "4bd31a40-ecba-426c-88a0-4c003b4ee9a7"
      },
      "execution_count": 23,
      "outputs": [
        {
          "output_type": "stream",
          "name": "stdout",
          "text": [
            "<class 'pandas.core.frame.DataFrame'>\n",
            "Int64Index: 1679 entries, 0 to 1689\n",
            "Data columns (total 9 columns):\n",
            " #   Column                              Non-Null Count  Dtype \n",
            "---  ------                              --------------  ----- \n",
            " 0   Date                                1679 non-null   object\n",
            " 1   Time                                1679 non-null   object\n",
            " 2   Time_Slot                           1679 non-null   object\n",
            " 3   Rain Fall mm                        1679 non-null   object\n",
            " 4   Ambient relative humidity %RH       1679 non-null   object\n",
            " 5   Ambient temperature Deg Centigrade  1679 non-null   object\n",
            " 6   Ultraviolet index unit              1679 non-null   object\n",
            " 7   Wind velocity km/h                  1677 non-null   object\n",
            " 8   Wind direction degree               1678 non-null   object\n",
            "dtypes: object(9)\n",
            "memory usage: 131.2+ KB\n"
          ]
        }
      ]
    },
    {
      "cell_type": "code",
      "source": [
        "final_df.isnull().sum()"
      ],
      "metadata": {
        "colab": {
          "base_uri": "https://localhost:8080/"
        },
        "id": "h-tvM3Z8fgbW",
        "outputId": "c4599d6e-d898-4f7a-9305-f34d80a60584"
      },
      "execution_count": 24,
      "outputs": [
        {
          "output_type": "execute_result",
          "data": {
            "text/plain": [
              "Date                                  0\n",
              "Time                                  0\n",
              "Time_Slot                             0\n",
              "Rain Fall mm                          0\n",
              "Ambient relative humidity %RH         0\n",
              "Ambient temperature Deg Centigrade    0\n",
              "Ultraviolet index unit                0\n",
              "Wind velocity km/h                    2\n",
              "Wind direction degree                 1\n",
              "dtype: int64"
            ]
          },
          "metadata": {},
          "execution_count": 24
        }
      ]
    },
    {
      "cell_type": "code",
      "source": [
        "input_file=output_file_with_timeslots\n",
        "df=pd.read_csv(input_file,header=0)\n",
        "df.dropna(how=\"all\", inplace=True)\n",
        "df.dtypes"
      ],
      "metadata": {
        "colab": {
          "base_uri": "https://localhost:8080/"
        },
        "id": "VPDlQJrlfiGq",
        "outputId": "95a831f7-01e9-4972-fec9-b8871ae6bf26"
      },
      "execution_count": 25,
      "outputs": [
        {
          "output_type": "execute_result",
          "data": {
            "text/plain": [
              "Date                                   object\n",
              "Time                                   object\n",
              "Time_Slot                               int64\n",
              "Rain Fall mm                          float64\n",
              "Ambient relative humidity %RH         float64\n",
              "Ambient temperature Deg Centigrade      int64\n",
              "Ultraviolet index unit                  int64\n",
              "Wind velocity km/h                    float64\n",
              "Wind direction degree                 float64\n",
              "dtype: object"
            ]
          },
          "metadata": {},
          "execution_count": 25
        }
      ]
    },
    {
      "cell_type": "code",
      "source": [
        "print(df.shape)\n",
        "print(df.iloc[0])"
      ],
      "metadata": {
        "colab": {
          "base_uri": "https://localhost:8080/"
        },
        "id": "yF2JN6tsfkLP",
        "outputId": "e15d5f71-fb86-4a46-8d4d-c85f13e9ae4f"
      },
      "execution_count": 26,
      "outputs": [
        {
          "output_type": "stream",
          "name": "stdout",
          "text": [
            "(1679, 9)\n",
            "Date                                  10-02-2022\n",
            "Time                                       22:40\n",
            "Time_Slot                                     22\n",
            "Rain Fall mm                                 0.0\n",
            "Ambient relative humidity %RH               64.5\n",
            "Ambient temperature Deg Centigrade            15\n",
            "Ultraviolet index unit                         0\n",
            "Wind velocity km/h                           1.1\n",
            "Wind direction degree                       45.0\n",
            "Name: 0, dtype: object\n"
          ]
        }
      ]
    },
    {
      "cell_type": "code",
      "source": [
        "columns_to_be_imputed=column_names[3:len(column_names)]\n",
        "columns_to_be_imputed"
      ],
      "metadata": {
        "colab": {
          "base_uri": "https://localhost:8080/"
        },
        "id": "7tNzQQkMfl3k",
        "outputId": "30b5d4e3-caec-4e60-b014-f823bc08335d"
      },
      "execution_count": 27,
      "outputs": [
        {
          "output_type": "execute_result",
          "data": {
            "text/plain": [
              "Index(['Ambient temperature Deg Centigrade', 'Ultraviolet index unit',\n",
              "       'Wind velocity km/h', 'Wind direction degree'],\n",
              "      dtype='object')"
            ]
          },
          "metadata": {},
          "execution_count": 27
        }
      ]
    },
    {
      "cell_type": "code",
      "source": [
        "from datetime import datetime\n",
        "print(columns_to_be_imputed)\n",
        "df[\"Date\"] = pd.to_datetime(df[\"Date\"],format='%d-%m-%Y') #'%d-%m-%Y') #'%Y-%m-%d')  #'%d-%m-%Y') #'%Y-%m-%d') #format='%Y-%m-%d')\n",
        "df.dtypes"
      ],
      "metadata": {
        "colab": {
          "base_uri": "https://localhost:8080/"
        },
        "id": "6lKvwyeMfnYE",
        "outputId": "aa8dd451-db7a-49dc-b905-7cd24230b496"
      },
      "execution_count": 28,
      "outputs": [
        {
          "output_type": "stream",
          "name": "stdout",
          "text": [
            "Index(['Ambient temperature Deg Centigrade', 'Ultraviolet index unit',\n",
            "       'Wind velocity km/h', 'Wind direction degree'],\n",
            "      dtype='object')\n"
          ]
        },
        {
          "output_type": "execute_result",
          "data": {
            "text/plain": [
              "Date                                  datetime64[ns]\n",
              "Time                                          object\n",
              "Time_Slot                                      int64\n",
              "Rain Fall mm                                 float64\n",
              "Ambient relative humidity %RH                float64\n",
              "Ambient temperature Deg Centigrade             int64\n",
              "Ultraviolet index unit                         int64\n",
              "Wind velocity km/h                           float64\n",
              "Wind direction degree                        float64\n",
              "dtype: object"
            ]
          },
          "metadata": {},
          "execution_count": 28
        }
      ]
    },
    {
      "cell_type": "code",
      "source": [
        "from datetime import datetime, timedelta\n",
        "for c in columns_to_be_imputed:\n",
        "    l=df[df[c].isnull()].index.tolist()\n",
        "    l.reverse()\n",
        "    print(l)\n",
        "    \n",
        "    for i in l[0:]:\n",
        "        \n",
        "        if(i==df.shape[0]-1):\n",
        "            \n",
        "            u=df.loc[i-1,c]\n",
        "            \n",
        "            if(not(pd.isnull(u))):\n",
        "                df.loc[i,c]=u\n",
        "                print(df.loc[i,c])\n",
        "            continue\n",
        "        if(i!=0):\n",
        "            u=df.loc[i-1,c]\n",
        "        else:\n",
        "            u=i\n",
        "        l=df.loc[i+1,c]\n",
        "        \n",
        "        \n",
        "        d=df.loc[i,\"Date\"]\n",
        "        \n",
        "        prev_date=(d-timedelta(days=1))\n",
        "        #print(\"d=\",d,\"prev_date=\",prev_date)\n",
        "        prev_date=datetime(prev_date.year, prev_date.month,prev_date.day)\n",
        "      \n",
        "       \n",
        "        time_slot1=df.loc[i,\"Time_Slot\"]\n",
        "        \n",
        "       \n",
        "        \n",
        "        \n",
        "        prev_date_list=df.index[(df[\"Date\"]==prev_date) & (df[\"Time_Slot\"]==time_slot1)].tolist()\n",
        "        k_flag=False\n",
        "        \n",
        "        \n",
        "        if(len(prev_date_list)>=1):\n",
        "            k=prev_date_list[0]\n",
        "            \n",
        "            k_flag=not(pd.isnull(df.loc[k,c]))\n",
        "        \n",
        "        \n",
        "        if(k_flag):\n",
        "            prev_date_val=df.loc[k,c]          \n",
        "            l_flag=not(pd.isnull(l))\n",
        "            r_flag=not(pd.isnull(u))\n",
        "            \n",
        "            print(\"l=\",l,\"u=\",u,\"k=\",df.loc[k,c])\n",
        "            if(l_flag and r_flag):\n",
        "                df.loc[i,c]=(l+u+df.loc[k,c])/3.0;\n",
        "                \n",
        "            elif(l_flag and not(r_flag)):\n",
        "                df.loc[i,c]=(l+df.loc[k,c])/2.0;\n",
        "                \n",
        "            elif(r_flag and not(l_flag)):\n",
        "                df.loc[i,c]=(u+df.loc[k,c])/2;\n",
        "                \n",
        "        else:\n",
        "            \n",
        "            l_flag=not(pd.isnull(l))\n",
        "            r_flag=not(pd.isnull(u))\n",
        "            if(l_flag and r_flag):\n",
        "                df.loc[i,c]=(l+u)/2.0;\n",
        "                \n",
        "            elif(l_flag and not(r_flag)):\n",
        "                df.loc[i,c]=l;\n",
        "                \n",
        "            elif(r_flag and not(l_flag)):\n",
        "                df.loc[i,c]=u;"
      ],
      "metadata": {
        "colab": {
          "base_uri": "https://localhost:8080/"
        },
        "id": "kdSmldtgfpAv",
        "outputId": "43b40bed-dc4b-44bc-f97e-1a014dfc9cd0"
      },
      "execution_count": 29,
      "outputs": [
        {
          "output_type": "stream",
          "name": "stdout",
          "text": [
            "[]\n",
            "[]\n",
            "[1463, 1408]\n",
            "l= 3.9 u= 4.6 k= 3.0\n",
            "[1463]\n"
          ]
        }
      ]
    },
    {
      "cell_type": "code",
      "source": [
        "#f=file_path.index(\".csv\")\n",
        "#print(f)\n",
        "#output_file = file_path[0:f-1]+\"_imputed.csv\"\n",
        "output_file=file_name+\"_imputed.csv\"\n",
        "df.to_csv(output_file, index=False)"
      ],
      "metadata": {
        "id": "XNPHJ1YPfrCr"
      },
      "execution_count": 30,
      "outputs": []
    },
    {
      "cell_type": "code",
      "source": [
        "df.info()"
      ],
      "metadata": {
        "colab": {
          "base_uri": "https://localhost:8080/"
        },
        "id": "QNuarAU3fsvo",
        "outputId": "9d8576c9-0270-4378-87f7-ee7dc01ec80c"
      },
      "execution_count": 31,
      "outputs": [
        {
          "output_type": "stream",
          "name": "stdout",
          "text": [
            "<class 'pandas.core.frame.DataFrame'>\n",
            "RangeIndex: 1679 entries, 0 to 1678\n",
            "Data columns (total 9 columns):\n",
            " #   Column                              Non-Null Count  Dtype         \n",
            "---  ------                              --------------  -----         \n",
            " 0   Date                                1679 non-null   datetime64[ns]\n",
            " 1   Time                                1679 non-null   object        \n",
            " 2   Time_Slot                           1679 non-null   int64         \n",
            " 3   Rain Fall mm                        1679 non-null   float64       \n",
            " 4   Ambient relative humidity %RH       1679 non-null   float64       \n",
            " 5   Ambient temperature Deg Centigrade  1679 non-null   int64         \n",
            " 6   Ultraviolet index unit              1679 non-null   int64         \n",
            " 7   Wind velocity km/h                  1679 non-null   float64       \n",
            " 8   Wind direction degree               1679 non-null   float64       \n",
            "dtypes: datetime64[ns](1), float64(4), int64(3), object(1)\n",
            "memory usage: 118.2+ KB\n"
          ]
        }
      ]
    },
    {
      "cell_type": "code",
      "source": [
        "df=pd.read_csv(output_file,header=0)\n",
        "df.info()\n",
        "df.dropna(how=\"all\", inplace=True)\n",
        "df.info()\n",
        "df.dtypes"
      ],
      "metadata": {
        "colab": {
          "base_uri": "https://localhost:8080/"
        },
        "id": "9xKS9pI5fvea",
        "outputId": "ce1208d3-4b32-443d-cb0c-1c9645f6b33e"
      },
      "execution_count": 32,
      "outputs": [
        {
          "output_type": "stream",
          "name": "stdout",
          "text": [
            "<class 'pandas.core.frame.DataFrame'>\n",
            "RangeIndex: 1679 entries, 0 to 1678\n",
            "Data columns (total 9 columns):\n",
            " #   Column                              Non-Null Count  Dtype  \n",
            "---  ------                              --------------  -----  \n",
            " 0   Date                                1679 non-null   object \n",
            " 1   Time                                1679 non-null   object \n",
            " 2   Time_Slot                           1679 non-null   int64  \n",
            " 3   Rain Fall mm                        1679 non-null   float64\n",
            " 4   Ambient relative humidity %RH       1679 non-null   float64\n",
            " 5   Ambient temperature Deg Centigrade  1679 non-null   int64  \n",
            " 6   Ultraviolet index unit              1679 non-null   int64  \n",
            " 7   Wind velocity km/h                  1679 non-null   float64\n",
            " 8   Wind direction degree               1679 non-null   float64\n",
            "dtypes: float64(4), int64(3), object(2)\n",
            "memory usage: 118.2+ KB\n",
            "<class 'pandas.core.frame.DataFrame'>\n",
            "RangeIndex: 1679 entries, 0 to 1678\n",
            "Data columns (total 9 columns):\n",
            " #   Column                              Non-Null Count  Dtype  \n",
            "---  ------                              --------------  -----  \n",
            " 0   Date                                1679 non-null   object \n",
            " 1   Time                                1679 non-null   object \n",
            " 2   Time_Slot                           1679 non-null   int64  \n",
            " 3   Rain Fall mm                        1679 non-null   float64\n",
            " 4   Ambient relative humidity %RH       1679 non-null   float64\n",
            " 5   Ambient temperature Deg Centigrade  1679 non-null   int64  \n",
            " 6   Ultraviolet index unit              1679 non-null   int64  \n",
            " 7   Wind velocity km/h                  1679 non-null   float64\n",
            " 8   Wind direction degree               1679 non-null   float64\n",
            "dtypes: float64(4), int64(3), object(2)\n",
            "memory usage: 118.2+ KB\n"
          ]
        },
        {
          "output_type": "execute_result",
          "data": {
            "text/plain": [
              "Date                                   object\n",
              "Time                                   object\n",
              "Time_Slot                               int64\n",
              "Rain Fall mm                          float64\n",
              "Ambient relative humidity %RH         float64\n",
              "Ambient temperature Deg Centigrade      int64\n",
              "Ultraviolet index unit                  int64\n",
              "Wind velocity km/h                    float64\n",
              "Wind direction degree                 float64\n",
              "dtype: object"
            ]
          },
          "metadata": {},
          "execution_count": 32
        }
      ]
    },
    {
      "cell_type": "code",
      "source": [
        "df.info()"
      ],
      "metadata": {
        "colab": {
          "base_uri": "https://localhost:8080/"
        },
        "id": "MoNdE_aofxmi",
        "outputId": "e2d1fcc2-7c5b-4acc-99ba-f9bfc01bf32d"
      },
      "execution_count": 33,
      "outputs": [
        {
          "output_type": "stream",
          "name": "stdout",
          "text": [
            "<class 'pandas.core.frame.DataFrame'>\n",
            "RangeIndex: 1679 entries, 0 to 1678\n",
            "Data columns (total 9 columns):\n",
            " #   Column                              Non-Null Count  Dtype  \n",
            "---  ------                              --------------  -----  \n",
            " 0   Date                                1679 non-null   object \n",
            " 1   Time                                1679 non-null   object \n",
            " 2   Time_Slot                           1679 non-null   int64  \n",
            " 3   Rain Fall mm                        1679 non-null   float64\n",
            " 4   Ambient relative humidity %RH       1679 non-null   float64\n",
            " 5   Ambient temperature Deg Centigrade  1679 non-null   int64  \n",
            " 6   Ultraviolet index unit              1679 non-null   int64  \n",
            " 7   Wind velocity km/h                  1679 non-null   float64\n",
            " 8   Wind direction degree               1679 non-null   float64\n",
            "dtypes: float64(4), int64(3), object(2)\n",
            "memory usage: 118.2+ KB\n"
          ]
        }
      ]
    },
    {
      "cell_type": "code",
      "source": [
        "def Direction(x):\n",
        "    if((x>=348.75 and x<=360) or (x>=0.0 and x<11.25)):\n",
        "        return \"N\"\n",
        "    elif(x>=11.25 and x<33.75):\n",
        "        return \"NNE\"\n",
        "    elif(x>=33.75 and x<56.25):\n",
        "        return \"NE\"\n",
        "    elif(x>=56.25 and x<=78.75):\n",
        "        return \"ENE\"\n",
        "    elif(x>78.75 and x<=101.25):\n",
        "        return \"E\"\n",
        "    elif(x>101.25 and x<=123.75):\n",
        "        return \"ESE\"\n",
        "    elif(x>123.75 and x<=146.25):\n",
        "        return \"SE\"\n",
        "    elif(x>146.25 and x<=168.75):\n",
        "        return \"SSE\"\n",
        "    elif(x>168.75 and x<=191.25):\n",
        "        return \"S\"\n",
        "    elif(x>191.25 and x<=213.75):\n",
        "        return \"SSW\"\n",
        "    elif(x>213.75 and x<=236.25):\n",
        "        return \"SW\"\n",
        "    elif(x>236.25 and x<=258.75):\n",
        "        return \"WSW\"\n",
        "    elif(x>258.75 and x<=281.25):\n",
        "        return \"W\"\n",
        "    elif(x>281.25 and x<=303.75):\n",
        "        return \"WNW\"\n",
        "    elif(x>303.75 and x<=326.25):\n",
        "        return \"NW\"\n",
        "    elif(x>326.25 and x<=348.75):\n",
        "        return \"NNW\"\n",
        "    else:\n",
        "        print(x)\n",
        "     \n",
        "df['Wind Cardinal Direction'] = df['Wind direction degree'].apply(lambda x: Direction(x))\n",
        "df.drop(columns=\"Wind direction degree\",inplace=True)"
      ],
      "metadata": {
        "id": "LbLwaOKEfzq7"
      },
      "execution_count": 34,
      "outputs": []
    },
    {
      "cell_type": "code",
      "source": [
        "print(df['Wind Cardinal Direction'])\n",
        "df['Wind Cardinal Direction'].isnull().sum()"
      ],
      "metadata": {
        "colab": {
          "base_uri": "https://localhost:8080/"
        },
        "id": "NZzT32wdf1ka",
        "outputId": "ae70380c-ec05-479f-b8da-bb63382dde47"
      },
      "execution_count": 35,
      "outputs": [
        {
          "output_type": "stream",
          "name": "stdout",
          "text": [
            "0       NE\n",
            "1       NE\n",
            "2       NE\n",
            "3        W\n",
            "4        W\n",
            "        ..\n",
            "1674     W\n",
            "1675     W\n",
            "1676     W\n",
            "1677     W\n",
            "1678     W\n",
            "Name: Wind Cardinal Direction, Length: 1679, dtype: object\n"
          ]
        },
        {
          "output_type": "execute_result",
          "data": {
            "text/plain": [
              "0"
            ]
          },
          "metadata": {},
          "execution_count": 35
        }
      ]
    },
    {
      "cell_type": "code",
      "source": [
        "grouped_df=df.groupby(['Date','Time_Slot'])"
      ],
      "metadata": {
        "id": "fmjQeedzf3GD"
      },
      "execution_count": 36,
      "outputs": []
    },
    {
      "cell_type": "code",
      "source": [
        "print(grouped_df.head())\n",
        "#print(grouped_df.agg(lambda x: pd.Series.mode(x,dropN)[0])"
      ],
      "metadata": {
        "colab": {
          "base_uri": "https://localhost:8080/"
        },
        "id": "UJ5nNviAf5Qf",
        "outputId": "e4625ef9-945d-4476-f224-2643365ae323"
      },
      "execution_count": 37,
      "outputs": [
        {
          "output_type": "stream",
          "name": "stdout",
          "text": [
            "            Date   Time  Time_Slot  Rain Fall mm  \\\n",
            "0     2022-02-10  22:40         22           0.0   \n",
            "1     2022-02-10  22:35         22           0.0   \n",
            "2     2022-02-10  22:33         22           0.0   \n",
            "3     2022-02-10  18:54         18           0.0   \n",
            "4     2022-02-10  18:39         18           0.0   \n",
            "...          ...    ...        ...           ...   \n",
            "1674  2021-10-29  22:16         22           0.0   \n",
            "1675  2021-10-29  20:15         20           0.0   \n",
            "1676  2021-10-29  18:14         18           0.0   \n",
            "1677  2021-10-29  16:20         16           0.0   \n",
            "1678  2021-10-29  16:15         16           0.0   \n",
            "\n",
            "      Ambient relative humidity %RH  Ambient temperature Deg Centigrade  \\\n",
            "0                              64.5                                  15   \n",
            "1                              64.5                                  15   \n",
            "2                              64.5                                  15   \n",
            "3                              59.8                                  18   \n",
            "4                              59.8                                  18   \n",
            "...                             ...                                 ...   \n",
            "1674                           68.5                                  16   \n",
            "1675                           71.4                                  18   \n",
            "1676                           41.0                                  24   \n",
            "1677                           22.7                                  31   \n",
            "1678                           25.2                                  31   \n",
            "\n",
            "      Ultraviolet index unit  Wind velocity km/h Wind Cardinal Direction  \n",
            "0                          0                 1.1                      NE  \n",
            "1                          0                 1.1                      NE  \n",
            "2                          0                 1.1                      NE  \n",
            "3                          0                 0.0                       W  \n",
            "4                          0                 0.0                       W  \n",
            "...                      ...                 ...                     ...  \n",
            "1674                       0                 0.0                       W  \n",
            "1675                       0                 0.2                       W  \n",
            "1676                       0                 0.7                       W  \n",
            "1677                       0                 3.2                       W  \n",
            "1678                       0                 2.9                       W  \n",
            "\n",
            "[1678 rows x 9 columns]\n"
          ]
        }
      ]
    },
    {
      "cell_type": "code",
      "source": [
        "df2=grouped_df.agg({df.columns.values[3]:['mean','min','max']})\n",
        "df4=pd.DataFrame()\n",
        "for col in df.columns.values[4:]:\n",
        "    if(col!=\"Wind Cardinal Direction\"):\n",
        "        df3=grouped_df.agg({col:['mean','min','max']})\n",
        "        df2=df2.join(df3)\n",
        "    else:\n",
        "        #df4[\"Wind Cardinal Direction\",\"mode\"]=grouped_df['Wind Cardinal Direction'].agg(lambda x:x.value_counts().index[0])\n",
        "        df4[\"Wind Cardinal Direction\",\"mode\"]=grouped_df['Wind Cardinal Direction'].agg(lambda x: pd.Series.mode(x).iloc[0])\n",
        "        print(df4.head())\n",
        "        df2=df2.join(df4)\n",
        "print(df2.head())\n",
        "\n",
        "\n",
        "print(\"df2 size= \",df2.shape)\n",
        "\n",
        "df2.to_csv(\"Others.csv\")\n",
        "\n",
        "df2.reset_index(inplace=True)\n",
        "df2.info()"
      ],
      "metadata": {
        "colab": {
          "base_uri": "https://localhost:8080/"
        },
        "id": "RSSVBUZWf61k",
        "outputId": "a1da419d-3d8f-43bb-c117-dfa1606f71c4"
      },
      "execution_count": 38,
      "outputs": [
        {
          "output_type": "stream",
          "name": "stdout",
          "text": [
            "                     (Wind Cardinal Direction, mode)\n",
            "Date       Time_Slot                                \n",
            "2021-10-29 16                                      W\n",
            "           18                                      W\n",
            "           20                                      W\n",
            "           22                                      W\n",
            "2021-10-30 15                                      W\n",
            "                     Rain Fall mm           Ambient relative humidity %RH  \\\n",
            "                             mean  min  max                          mean   \n",
            "Date       Time_Slot                                                        \n",
            "2021-10-29 16                 0.0  0.0  0.0                         23.95   \n",
            "           18                 0.0  0.0  0.0                         41.00   \n",
            "           20                 0.0  0.0  0.0                         71.40   \n",
            "           22                 0.0  0.0  0.0                         68.50   \n",
            "2021-10-30 15                 0.0  0.0  0.0                         19.70   \n",
            "\n",
            "                                 Ambient temperature Deg Centigrade          \\\n",
            "                       min   max                               mean min max   \n",
            "Date       Time_Slot                                                          \n",
            "2021-10-29 16         22.7  25.2                               31.0  31  31   \n",
            "           18         41.0  41.0                               24.0  24  24   \n",
            "           20         71.4  71.4                               18.0  18  18   \n",
            "           22         68.5  68.5                               16.0  16  16   \n",
            "2021-10-30 15         19.7  19.7                               33.0  33  33   \n",
            "\n",
            "                     Ultraviolet index unit         Wind velocity km/h       \\\n",
            "                                       mean min max               mean  min   \n",
            "Date       Time_Slot                                                          \n",
            "2021-10-29 16                           0.0   0   0               3.05  2.9   \n",
            "           18                           0.0   0   0               0.70  0.7   \n",
            "           20                           0.0   0   0               0.20  0.2   \n",
            "           22                           0.0   0   0               0.00  0.0   \n",
            "2021-10-30 15                           0.0   0   0               5.40  5.4   \n",
            "\n",
            "                          Wind Cardinal Direction  \n",
            "                      max                    mode  \n",
            "Date       Time_Slot                               \n",
            "2021-10-29 16         3.2                       W  \n",
            "           18         0.7                       W  \n",
            "           20         0.2                       W  \n",
            "           22         0.0                       W  \n",
            "2021-10-30 15         5.4                       W  \n",
            "df2 size=  (1091, 16)\n",
            "<class 'pandas.core.frame.DataFrame'>\n",
            "RangeIndex: 1091 entries, 0 to 1090\n",
            "Data columns (total 18 columns):\n",
            " #   Column                                      Non-Null Count  Dtype  \n",
            "---  ------                                      --------------  -----  \n",
            " 0   (Date, )                                    1091 non-null   object \n",
            " 1   (Time_Slot, )                               1091 non-null   int64  \n",
            " 2   (Rain Fall mm, mean)                        1091 non-null   float64\n",
            " 3   (Rain Fall mm, min)                         1091 non-null   float64\n",
            " 4   (Rain Fall mm, max)                         1091 non-null   float64\n",
            " 5   (Ambient relative humidity %RH, mean)       1091 non-null   float64\n",
            " 6   (Ambient relative humidity %RH, min)        1091 non-null   float64\n",
            " 7   (Ambient relative humidity %RH, max)        1091 non-null   float64\n",
            " 8   (Ambient temperature Deg Centigrade, mean)  1091 non-null   float64\n",
            " 9   (Ambient temperature Deg Centigrade, min)   1091 non-null   int64  \n",
            " 10  (Ambient temperature Deg Centigrade, max)   1091 non-null   int64  \n",
            " 11  (Ultraviolet index unit, mean)              1091 non-null   float64\n",
            " 12  (Ultraviolet index unit, min)               1091 non-null   int64  \n",
            " 13  (Ultraviolet index unit, max)               1091 non-null   int64  \n",
            " 14  (Wind velocity km/h, mean)                  1091 non-null   float64\n",
            " 15  (Wind velocity km/h, min)                   1091 non-null   float64\n",
            " 16  (Wind velocity km/h, max)                   1091 non-null   float64\n",
            " 17  (Wind Cardinal Direction, mode)             1091 non-null   object \n",
            "dtypes: float64(11), int64(5), object(2)\n",
            "memory usage: 153.5+ KB\n"
          ]
        },
        {
          "output_type": "stream",
          "name": "stderr",
          "text": [
            "<ipython-input-38-e6e7f90b563c>:11: FutureWarning: merging between different levels is deprecated and will be removed in a future version. (2 levels on the left, 1 on the right)\n",
            "  df2=df2.join(df4)\n"
          ]
        }
      ]
    },
    {
      "cell_type": "code",
      "source": [
        "print(df2.columns)"
      ],
      "metadata": {
        "colab": {
          "base_uri": "https://localhost:8080/"
        },
        "id": "zW-A4QLPf-0e",
        "outputId": "e54ba38b-4bb7-4ff9-a819-25c2b4784b53"
      },
      "execution_count": 39,
      "outputs": [
        {
          "output_type": "stream",
          "name": "stdout",
          "text": [
            "MultiIndex([(                              'Date',     ''),\n",
            "            (                         'Time_Slot',     ''),\n",
            "            (                      'Rain Fall mm', 'mean'),\n",
            "            (                      'Rain Fall mm',  'min'),\n",
            "            (                      'Rain Fall mm',  'max'),\n",
            "            (     'Ambient relative humidity %RH', 'mean'),\n",
            "            (     'Ambient relative humidity %RH',  'min'),\n",
            "            (     'Ambient relative humidity %RH',  'max'),\n",
            "            ('Ambient temperature Deg Centigrade', 'mean'),\n",
            "            ('Ambient temperature Deg Centigrade',  'min'),\n",
            "            ('Ambient temperature Deg Centigrade',  'max'),\n",
            "            (            'Ultraviolet index unit', 'mean'),\n",
            "            (            'Ultraviolet index unit',  'min'),\n",
            "            (            'Ultraviolet index unit',  'max'),\n",
            "            (                'Wind velocity km/h', 'mean'),\n",
            "            (                'Wind velocity km/h',  'min'),\n",
            "            (                'Wind velocity km/h',  'max'),\n",
            "            (           'Wind Cardinal Direction', 'mode')],\n",
            "           )\n"
          ]
        }
      ]
    },
    {
      "cell_type": "code",
      "source": [
        "Temp_Date = pd.to_datetime(df2[\"Date\"])\n",
        "df2['Date'] = Temp_Date.dt.strftime('%d-%b-%y')\n",
        "print(df2.dtypes)\n",
        "#df2.insert(1,\"Time_Slot\",df[\"Time_Slot\"])\n",
        "D=pd.to_datetime(df2[\"Date\"])\n",
        "year=str(D[0].year)\n",
        "df2.insert(2,\"Crop Year\",\"CY\"+year[2:4])"
      ],
      "metadata": {
        "colab": {
          "base_uri": "https://localhost:8080/"
        },
        "id": "dCnW8RGFgB7T",
        "outputId": "2650f961-6cb4-433c-babf-4930f6adf068"
      },
      "execution_count": 40,
      "outputs": [
        {
          "output_type": "stream",
          "name": "stdout",
          "text": [
            "Date                                         object\n",
            "Time_Slot                                     int64\n",
            "Rain Fall mm                        mean    float64\n",
            "                                    min     float64\n",
            "                                    max     float64\n",
            "Ambient relative humidity %RH       mean    float64\n",
            "                                    min     float64\n",
            "                                    max     float64\n",
            "Ambient temperature Deg Centigrade  mean    float64\n",
            "                                    min       int64\n",
            "                                    max       int64\n",
            "Ultraviolet index unit              mean    float64\n",
            "                                    min       int64\n",
            "                                    max       int64\n",
            "Wind velocity km/h                  mean    float64\n",
            "                                    min     float64\n",
            "                                    max     float64\n",
            "Wind Cardinal Direction             mode     object\n",
            "dtype: object\n"
          ]
        }
      ]
    },
    {
      "cell_type": "code",
      "source": [
        "import numpy as np\n",
        "min_date=min(Temp_Date)\n",
        "X= (Temp_Date-(min_date))\n",
        "Week=X//np.timedelta64(1,'W')+1\n",
        "Week=\"Week \"+Week.astype('str')\n",
        "df2.insert(2,\"Week\",Week)\n",
        "print(Temp_Date.dt.month_name())\n",
        "df2.insert(3,\"Month-Year Mode\",Temp_Date.dt.month_name())\n",
        "df2.insert(4,\"Year\",Temp_Date.dt.year)\n",
        "print(Temp_Date.dt.year)"
      ],
      "metadata": {
        "colab": {
          "base_uri": "https://localhost:8080/"
        },
        "id": "FNaxWmKDgDxY",
        "outputId": "0bf5039f-6857-4901-87c9-71423d4f66af"
      },
      "execution_count": 41,
      "outputs": [
        {
          "output_type": "stream",
          "name": "stdout",
          "text": [
            "0        October\n",
            "1        October\n",
            "2        October\n",
            "3        October\n",
            "4        October\n",
            "          ...   \n",
            "1086    February\n",
            "1087    February\n",
            "1088    February\n",
            "1089    February\n",
            "1090    February\n",
            "Name: Date, Length: 1091, dtype: object\n",
            "0       2021\n",
            "1       2021\n",
            "2       2021\n",
            "3       2021\n",
            "4       2021\n",
            "        ... \n",
            "1086    2022\n",
            "1087    2022\n",
            "1088    2022\n",
            "1089    2022\n",
            "1090    2022\n",
            "Name: Date, Length: 1091, dtype: int64\n"
          ]
        }
      ]
    },
    {
      "cell_type": "code",
      "source": [
        "df2[\"Radiation (Mj/M2)\",\"mean\"]=df2[\"Ultraviolet index unit\",\"mean\"]/40\n",
        "df2[\"Radiation (Mj/M2)\",\"min\"]=df2[\"Ultraviolet index unit\",\"min\"]/40\n",
        "df2[\"Radiation (Mj/M2)\",\"max\"]=df2[\"Ultraviolet index unit\",\"max\"]/40\n",
        "\n",
        "\n",
        "df2.drop(columns=\"Ultraviolet index unit\",level=0,inplace=True)\n",
        "output_file_name= file_name+\"_one_hourly_aggregate_data.csv\"\n",
        "df2.to_csv(output_file_name,index=False)"
      ],
      "metadata": {
        "id": "-cIS6h1xgFWx"
      },
      "execution_count": 42,
      "outputs": []
    }
  ]
}